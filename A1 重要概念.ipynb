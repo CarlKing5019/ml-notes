{
 "cells": [
  {
   "cell_type": "markdown",
   "metadata": {},
   "source": [
    "# 重要概念\n",
    "\n",
    "* 概率\n",
    "    * 先验概率与后验概率 [1](http://blog.csdn.net/passball/article/details/5859878) [2](http://blog.sina.com.cn/s/blog_4ce95d300100fwz3.html) [3](http://blog.csdn.net/junmuzi/article/details/51192283)\n",
    "    * [生成模型与判别模型](http://blog.csdn.net/zouxy09/article/details/8195017)"
   ]
  },
  {
   "cell_type": "code",
   "execution_count": null,
   "metadata": {
    "collapsed": true
   },
   "outputs": [],
   "source": []
  }
 ],
 "metadata": {
  "kernelspec": {
   "display_name": "Python 2",
   "language": "python",
   "name": "python2"
  },
  "language_info": {
   "codemirror_mode": {
    "name": "ipython",
    "version": 2
   },
   "file_extension": ".py",
   "mimetype": "text/x-python",
   "name": "python",
   "nbconvert_exporter": "python",
   "pygments_lexer": "ipython2",
   "version": "2.7.13"
  }
 },
 "nbformat": 4,
 "nbformat_minor": 2
}
