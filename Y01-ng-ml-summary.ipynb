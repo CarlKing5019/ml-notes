{
 "cells": [
  {
   "cell_type": "markdown",
   "metadata": {},
   "source": [
    "# Andrew Ng 机器学习课程总结"
   ]
  },
  {
   "cell_type": "markdown",
   "metadata": {
    "toc": true
   },
   "source": [
    "<h1>Table of Contents<span class=\"tocSkip\"></span></h1>\n",
    "<div class=\"toc\" style=\"margin-top: 1em;\"><ul class=\"toc-item\"><li><span><a href=\"#多变量线性回归\" data-toc-modified-id=\"多变量线性回归-1\"><span class=\"toc-item-num\">1&nbsp;&nbsp;</span>多变量线性回归</a></span></li></ul></div>"
   ]
  },
  {
   "cell_type": "markdown",
   "metadata": {},
   "source": [
    "相关链接:\n",
    "\n",
    "- [Coursera 课程主页](https://www.coursera.org/learn/machine-learning/home/welcome)\n",
    "- [我的课程学习笔记](http://blog.leanote.com/post/carlking5019/2a7ad07903eb)\n",
    "- [我的课程作业解答](https://github.com/CarlKing5019/ng-ml-exp)"
   ]
  },
  {
   "cell_type": "markdown",
   "metadata": {},
   "source": [
    "## 多变量线性回归"
   ]
  },
  {
   "cell_type": "markdown",
   "metadata": {},
   "source": [
    "使用向量化语言表述的梯度下降算法如下:\n",
    "\n",
    "训练集为 $\\{(x^{(i)}, y^{(i)})\\}_{i = 1}^m$, $x^{(i)} = (x_0^{(i)}, x_1^{(i)}, \\cdots, x_n^{(i)})^T$, $x_0^{(i)} = 1$. 用向量化语言记为 $X=[(x^{(1)})^T, (x^{(2)})^T, \\cdots, (x^{(m)})^T]^T$, $y=[y^{(1)}, y^{(2)}, \\cdots, y^{(m)}]^T$, 显式形式如下\n",
    "\n",
    "$$\n",
    "\\begin{matrix}\n",
    "X =  \\begin{bmatrix}\n",
    "   x_0^{(1)} & x_1^{(1)} & \\cdots & x_n^{(1)} \\\\\n",
    "   x_0^{(2)} & x_1^{(2)} & \\cdots & x_n^{(2)} \\\\\n",
    "   \\vdots    & \\vdots    & \\vdots & \\vdots    \\\\\n",
    "   x_0^{(m)} & x_1^{(m)} & \\cdots & x_n^{(m)} \n",
    "  \\end{bmatrix}, \n",
    "& y = \\begin{bmatrix}\n",
    "   y^{(1)}     \\\\\n",
    "   y^{(2)}     \\\\\n",
    "   \\vdots  \\\\\n",
    "   y^{(m)} \n",
    "  \\end{bmatrix}\n",
    "\\end{matrix}\n",
    "$$\n",
    "\n",
    "参数\n",
    "$$\n",
    "\\theta = (\\theta_0, \\theta_1, \\theta_2, \\cdots, \\theta_n)^T\n",
    "$$\n",
    "\n",
    "假设函数\n",
    "$$\n",
    "h_\\theta(x) = \\theta_0 + \\theta_1 x_1 + \\theta_2 x_2 + \\cdots + \\theta_n x_n = \\theta^T x\n",
    "$$\n",
    "\n",
    "预测结果\n",
    "$$\n",
    "\\hat{y}=[\\hat{y}^{(1)}, \\hat{y}^{(2)}, \\cdots, \\hat{y}^{(m)}]^T = X \\theta\n",
    "$$\n",
    "\n",
    "代价函数\n",
    "$$\n",
    "J(\\theta) = \\frac{1}{2m} \\sum_{i=1}^{m} (h_\\theta(x^{(i)})-y^{(i)})^2 = \\frac{1}{2m} (X \\theta - y)^T(X \\theta -y)\n",
    "$$\n",
    "\n",
    "梯度下降\n",
    "$$\n",
    "\\begin{align*}\n",
    "&\\text{repeat until convergence:} \\; \\lbrace \\\\ \n",
    "%\\; & \\theta_j := \\theta_j - \\alpha \\frac{1}{m} \\sum\\limits_{i=1}^{m} (h_\\theta(x^{(i)}) - y^{(i)}) \\cdot x_j^{(i)} \\; & \\text{for j = 0,} \\cdots\\text{,n}\\newline\n",
    "& \\quad \\theta = \\theta - \\alpha\\frac{1}{m} X^T (X \\theta -y) \\\\\n",
    "\\rbrace\n",
    "\\end{align*}\n",
    "$$\n",
    "\n",
    "对于多变量线性回归问题, 除了梯度下降法外, 还可以使用正规方程求解. 正规方程如下:\n",
    "\n",
    "\n",
    "$$\n",
    "\\theta = (X^T X)^{-1} X^T y\n",
    "$$\n"
   ]
  },
  {
   "cell_type": "markdown",
   "metadata": {},
   "source": [
    "相应的 MATLAB 代码如下:\n",
    "\n",
    "```matlab\n",
    "% computeCostMulti.m\n",
    "J = 1/(2 * m) * (X * theta - y)'* (X * theta - y);\n",
    "```\n",
    "\n",
    "```matlab\n",
    "% gradientDescent.m\n",
    "for iter = 1:num_iters\n",
    "    theta = theta - 1 / m * alpha * X' * (X * theta - y);\n",
    "end\n",
    "```\n",
    "\n",
    "```matlab\n",
    "% normalEqn.m\n",
    "theta = inv(X' * X) * X' * y;\n",
    "```"
   ]
  },
  {
   "cell_type": "code",
   "execution_count": null,
   "metadata": {},
   "outputs": [],
   "source": []
  }
 ],
 "metadata": {
  "kernelspec": {
   "display_name": "Python 2",
   "language": "python",
   "name": "python2"
  },
  "language_info": {
   "codemirror_mode": {
    "name": "ipython",
    "version": 2
   },
   "file_extension": ".py",
   "mimetype": "text/x-python",
   "name": "python",
   "nbconvert_exporter": "python",
   "pygments_lexer": "ipython2",
   "version": "2.7.14"
  },
  "toc": {
   "nav_menu": {},
   "number_sections": true,
   "sideBar": true,
   "skip_h1_title": true,
   "toc_cell": true,
   "toc_position": {},
   "toc_section_display": "block",
   "toc_window_display": false
  }
 },
 "nbformat": 4,
 "nbformat_minor": 2
}
